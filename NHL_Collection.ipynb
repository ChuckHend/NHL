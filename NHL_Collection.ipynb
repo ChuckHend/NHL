{
 "cells": [
  {
   "cell_type": "code",
   "execution_count": 2,
   "metadata": {},
   "outputs": [],
   "source": [
    "import pandas as pd"
   ]
  },
  {
   "cell_type": "markdown",
   "metadata": {},
   "source": [
    "# Collect Advances Team Stats\n",
    "- available 2007 - present"
   ]
  },
  {
   "cell_type": "code",
   "execution_count": 66,
   "metadata": {},
   "outputs": [
    {
     "name": "stdout",
     "output_type": "stream",
     "text": [
      "2008\n",
      "2009\n",
      "2010\n",
      "2011\n",
      "2012\n",
      "2013\n",
      "2014\n",
      "2015\n",
      "2016\n",
      "2017\n"
     ]
    }
   ],
   "source": [
    "# years\n",
    "start= 2007\n",
    "end= 2018\n",
    "yearList = [x for x in range(start,end) if x != 2004]\n",
    "results = pd.DataFrame()\n",
    "for year in yearList[1:]:\n",
    "    # yearString = '{}{}'.format(year, year+1)\n",
    "    baseUrl='https://www.hockey-reference.com/play-index/tpbp_finder.cgi?request=1&match=single&year_min={}&year_max={}&situation_id=ev'.format(year,year)\n",
    "    print(year)\n",
    "    table = pd.read_html(baseUrl, header=1)[0]\n",
    "    results = pd.concat([results, table])"
   ]
  },
  {
   "cell_type": "code",
   "execution_count": 69,
   "metadata": {},
   "outputs": [],
   "source": [
    "results.to_csv('advanced_{}_{}.csv'.format(start,end), index=False)"
   ]
  },
  {
   "cell_type": "markdown",
   "metadata": {},
   "source": [
    "# Collect Regular Season Stats\n",
    "- Note: Collected manually."
   ]
  },
  {
   "cell_type": "code",
   "execution_count": 88,
   "metadata": {},
   "outputs": [],
   "source": [
    "# regular = '//widgets.sports-reference.com/wg.fcgi?css=1&site=hr&url=%2Fleagues%2FNHL_2017.html&div=div_stats'\n",
    "regular = pd.read_csv('Data/2000_2017_regular_season.csv')"
   ]
  },
  {
   "cell_type": "markdown",
   "metadata": {},
   "source": [
    "# Collect Playoff Stats\n",
    "- Manual"
   ]
  },
  {
   "cell_type": "code",
   "execution_count": 89,
   "metadata": {},
   "outputs": [],
   "source": [
    "# playoff = 'https://www.hockey-reference.com/playoffs/NHL_2017.html'\n",
    "playoff = pd.read_csv('Data/2000_2017_playoffs.csv')"
   ]
  },
  {
   "cell_type": "code",
   "execution_count": null,
   "metadata": {},
   "outputs": [],
   "source": []
  }
 ],
 "metadata": {
  "kernelspec": {
   "display_name": "Python 3",
   "language": "python",
   "name": "python3"
  }
 },
 "nbformat": 4,
 "nbformat_minor": 2
}
