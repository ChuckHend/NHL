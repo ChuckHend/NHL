{
 "cells": [
  {
   "cell_type": "code",
   "execution_count": 43,
   "metadata": {
    "collapsed": true
   },
   "outputs": [],
   "source": [
    "from sklearn.neighbors import KNeighborsClassifier\n",
    "from sklearn import preprocessing\n",
    "import numpy as np\n",
    "import pandas as pd"
   ]
  },
  {
   "cell_type": "code",
   "execution_count": 44,
   "metadata": {
    "collapsed": true
   },
   "outputs": [],
   "source": [
    "nhlRaw = pd.read_csv('NHL Stat DB_2008_2017.csv', encoding=\"ISO-8859-1\")"
   ]
  },
  {
   "cell_type": "code",
   "execution_count": 45,
   "metadata": {
    "collapsed": true
   },
   "outputs": [],
   "source": [
    "# read in data from file\n",
    "nhlRaw.columns = [c.replace(' ', '_') for c in nhlRaw.columns]"
   ]
  },
  {
   "cell_type": "code",
   "execution_count": 46,
   "metadata": {
    "collapsed": true
   },
   "outputs": [],
   "source": [
    "# filter to teams that made playoffs\n",
    "# TODO: remove tampa bay\n",
    "nhlRaw = nhlRaw[nhlRaw.CY_Season_Rank < 18]"
   ]
  },
  {
   "cell_type": "code",
   "execution_count": 47,
   "metadata": {},
   "outputs": [],
   "source": [
    "# split the labels from the 'data'\n",
    "labels = nhlRaw.iloc[:,0:7]\n",
    "nhlData = nhlRaw.iloc[:,np.r_[0,7:len(nhlRaw.columns)]]"
   ]
  },
  {
   "cell_type": "code",
   "execution_count": 48,
   "metadata": {},
   "outputs": [],
   "source": [
    "# convert values to scaled, group by year\n",
    "# TODO: consider using z-score...divide by Std.Dev.\n",
    "nhlScale = nhlData.groupby('Year')\n",
    "nhlScaled = nhlScale.apply(lambda x: (x - np.mean(x)) / (np.max(x) - np.min(x)))"
   ]
  },
  {
   "cell_type": "code",
   "execution_count": 49,
   "metadata": {
    "collapsed": true
   },
   "outputs": [],
   "source": [
    "# now drop year from the dataframe\n",
    "nhlScaled = nhlScaled.drop('Year', 1)"
   ]
  },
  {
   "cell_type": "code",
   "execution_count": 50,
   "metadata": {},
   "outputs": [],
   "source": [
    "# merge the datasets back together\n",
    "nhlScaled = pd.concat([labels, nhlScaled], axis = 1)"
   ]
  },
  {
   "cell_type": "code",
   "execution_count": 51,
   "metadata": {
    "collapsed": true
   },
   "outputs": [],
   "source": [
    "# fill NaN with zeros\n",
    "# TODO: find a better imputation method rather than subbing \n",
    "#       a zero.\n",
    "nhlScaled = nhlScaled.fillna(0)\n",
    "# current scaling method is causing some +/- inf values, sub a zero in there too\n",
    "nhlScaled = nhlScaled.replace([np.inf, -np.inf], 0)"
   ]
  },
  {
   "cell_type": "code",
   "execution_count": 52,
   "metadata": {
    "collapsed": true
   },
   "outputs": [],
   "source": [
    "# split to training (history) and test (current year)\n",
    "# traditional methods would split the data 70/30 rather\n",
    "# than prior year and current year\n",
    "\n",
    "# 'Test' set\n",
    "# select current year\n",
    "nhlTest = nhlScaled[nhlScaled.Year == 2017]\n",
    "# extract the ranks (targets)\n",
    "nhlTestclass = nhlTest.CY_Playoff_Rank\n",
    "# select team teams\n",
    "nhlTestTeams = nhlTest.Team\n",
    "# drop admin data from the test set\n",
    "nhlTest = nhlTest.iloc[:,7:len(nhlRaw.columns)]\n",
    "\n",
    "# 'Training' set\n",
    "# select all prior years\n",
    "nhlTrain = nhlScaled[nhlScaled.Year < 2017]\n",
    "nhlTrainclass = nhlTrain.CY_Playoff_Rank\n",
    "nhlTrainTeams = nhlTrain.Team\n",
    "# drop admin data from training set\n",
    "nhlTrain = nhlTrain.iloc[:,7:len(nhlRaw.columns)]"
   ]
  },
  {
   "cell_type": "code",
   "execution_count": 53,
   "metadata": {},
   "outputs": [],
   "source": [
    "# initialize knn obj.\n",
    "# TODO: optimize num neighbors\n",
    "knn = KNeighborsClassifier(n_neighbors = 6, algorithm = 'auto')"
   ]
  },
  {
   "cell_type": "code",
   "execution_count": 54,
   "metadata": {},
   "outputs": [
    {
     "data": {
      "text/plain": [
       "KNeighborsClassifier(algorithm='auto', leaf_size=30, metric='minkowski',\n",
       "           metric_params=None, n_jobs=1, n_neighbors=6, p=2,\n",
       "           weights='uniform')"
      ]
     },
     "execution_count": 54,
     "metadata": {},
     "output_type": "execute_result"
    }
   ],
   "source": [
    "# fit model\n",
    "# syntax knn.fit(training data, target data)\n",
    "knn.fit(nhlTrain, nhlTrainclass)"
   ]
  },
  {
   "cell_type": "code",
   "execution_count": 55,
   "metadata": {
    "collapsed": true
   },
   "outputs": [],
   "source": [
    "# call the model w/ 'test' data\n",
    "predicts = knn.predict(nhlTest)\n",
    "# convert to dataframe\n",
    "predicts = pd.DataFrame(predicts)"
   ]
  },
  {
   "cell_type": "code",
   "execution_count": 56,
   "metadata": {
    "collapsed": true
   },
   "outputs": [],
   "source": [
    "# merge the actual and prediction data frames\n",
    "# reset row indexing to align predictions with actuals\n",
    "nhlTestTeams.reset_index(drop=True, inplace=True)\n",
    "nhlTestclass.reset_index(drop=True, inplace=True)\n",
    "predicts.reset_index(drop=True, inplace=True)"
   ]
  },
  {
   "cell_type": "code",
   "execution_count": 57,
   "metadata": {
    "collapsed": true
   },
   "outputs": [],
   "source": [
    "# merge the data for presentation\n",
    "results = pd.concat([nhlTestTeams, nhlTestclass, predicts], axis=1)\n",
    "# give name to columns\n",
    "results.columns = ['Team', 'Actual', 'Predicted']"
   ]
  },
  {
   "cell_type": "code",
   "execution_count": 58,
   "metadata": {},
   "outputs": [
    {
     "data": {
      "text/html": [
       "<div>\n",
       "<style>\n",
       "    .dataframe thead tr:only-child th {\n",
       "        text-align: right;\n",
       "    }\n",
       "\n",
       "    .dataframe thead th {\n",
       "        text-align: left;\n",
       "    }\n",
       "\n",
       "    .dataframe tbody tr th {\n",
       "        vertical-align: top;\n",
       "    }\n",
       "</style>\n",
       "<table border=\"1\" class=\"dataframe\">\n",
       "  <thead>\n",
       "    <tr style=\"text-align: right;\">\n",
       "      <th></th>\n",
       "      <th>Team</th>\n",
       "      <th>Actual</th>\n",
       "      <th>Predicted</th>\n",
       "    </tr>\n",
       "  </thead>\n",
       "  <tbody>\n",
       "    <tr>\n",
       "      <th>0</th>\n",
       "      <td>Anaheim Ducks</td>\n",
       "      <td>4</td>\n",
       "      <td>8</td>\n",
       "    </tr>\n",
       "    <tr>\n",
       "      <th>1</th>\n",
       "      <td>Boston Bruins</td>\n",
       "      <td>10</td>\n",
       "      <td>15</td>\n",
       "    </tr>\n",
       "    <tr>\n",
       "      <th>2</th>\n",
       "      <td>Calgary Flames</td>\n",
       "      <td>16</td>\n",
       "      <td>14</td>\n",
       "    </tr>\n",
       "    <tr>\n",
       "      <th>3</th>\n",
       "      <td>Chicago Blackhawks</td>\n",
       "      <td>15</td>\n",
       "      <td>1</td>\n",
       "    </tr>\n",
       "    <tr>\n",
       "      <th>4</th>\n",
       "      <td>Columbus Blue Jackets</td>\n",
       "      <td>14</td>\n",
       "      <td>3</td>\n",
       "    </tr>\n",
       "    <tr>\n",
       "      <th>5</th>\n",
       "      <td>Edmonton Oilers</td>\n",
       "      <td>6</td>\n",
       "      <td>16</td>\n",
       "    </tr>\n",
       "    <tr>\n",
       "      <th>6</th>\n",
       "      <td>Minnesota Wild</td>\n",
       "      <td>13</td>\n",
       "      <td>7</td>\n",
       "    </tr>\n",
       "    <tr>\n",
       "      <th>7</th>\n",
       "      <td>Montréal Canadiens</td>\n",
       "      <td>12</td>\n",
       "      <td>4</td>\n",
       "    </tr>\n",
       "    <tr>\n",
       "      <th>8</th>\n",
       "      <td>Nashville Predators</td>\n",
       "      <td>2</td>\n",
       "      <td>9</td>\n",
       "    </tr>\n",
       "    <tr>\n",
       "      <th>9</th>\n",
       "      <td>New York Rangers</td>\n",
       "      <td>8</td>\n",
       "      <td>10</td>\n",
       "    </tr>\n",
       "    <tr>\n",
       "      <th>10</th>\n",
       "      <td>Ottawa Senators</td>\n",
       "      <td>3</td>\n",
       "      <td>4</td>\n",
       "    </tr>\n",
       "    <tr>\n",
       "      <th>11</th>\n",
       "      <td>Pittsburgh Penguins</td>\n",
       "      <td>1</td>\n",
       "      <td>7</td>\n",
       "    </tr>\n",
       "    <tr>\n",
       "      <th>12</th>\n",
       "      <td>San Jose Sharks</td>\n",
       "      <td>11</td>\n",
       "      <td>4</td>\n",
       "    </tr>\n",
       "    <tr>\n",
       "      <th>13</th>\n",
       "      <td>St. Louis Blues</td>\n",
       "      <td>7</td>\n",
       "      <td>8</td>\n",
       "    </tr>\n",
       "    <tr>\n",
       "      <th>14</th>\n",
       "      <td>Tampa Bay Lightning</td>\n",
       "      <td>16</td>\n",
       "      <td>14</td>\n",
       "    </tr>\n",
       "    <tr>\n",
       "      <th>15</th>\n",
       "      <td>Toronto Maple Leafs</td>\n",
       "      <td>9</td>\n",
       "      <td>12</td>\n",
       "    </tr>\n",
       "    <tr>\n",
       "      <th>16</th>\n",
       "      <td>Washington Capitals</td>\n",
       "      <td>5</td>\n",
       "      <td>6</td>\n",
       "    </tr>\n",
       "  </tbody>\n",
       "</table>\n",
       "</div>"
      ],
      "text/plain": [
       "                     Team  Actual  Predicted\n",
       "0           Anaheim Ducks       4          8\n",
       "1           Boston Bruins      10         15\n",
       "2          Calgary Flames      16         14\n",
       "3      Chicago Blackhawks      15          1\n",
       "4   Columbus Blue Jackets      14          3\n",
       "5         Edmonton Oilers       6         16\n",
       "6          Minnesota Wild      13          7\n",
       "7      Montréal Canadiens      12          4\n",
       "8     Nashville Predators       2          9\n",
       "9        New York Rangers       8         10\n",
       "10        Ottawa Senators       3          4\n",
       "11    Pittsburgh Penguins       1          7\n",
       "12        San Jose Sharks      11          4\n",
       "13        St. Louis Blues       7          8\n",
       "14    Tampa Bay Lightning      16         14\n",
       "15    Toronto Maple Leafs       9         12\n",
       "16    Washington Capitals       5          6"
      ]
     },
     "execution_count": 58,
     "metadata": {},
     "output_type": "execute_result"
    }
   ],
   "source": [
    "# view results\n",
    "# knn not good in its current form :(\n",
    "results"
   ]
  }
 ],
 "metadata": {
  "kernelspec": {
   "display_name": "Python 3",
   "language": "python",
   "name": "python3"
  },
  "language_info": {
   "codemirror_mode": {
    "name": "ipython",
    "version": 3
   },
   "file_extension": ".py",
   "mimetype": "text/x-python",
   "name": "python",
   "nbconvert_exporter": "python",
   "pygments_lexer": "ipython3",
   "version": "3.6.1"
  }
 },
 "nbformat": 4,
 "nbformat_minor": 1
}
